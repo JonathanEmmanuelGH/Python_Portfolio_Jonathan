{
  "nbformat": 4,
  "nbformat_minor": 0,
  "metadata": {
    "colab": {
      "provenance": [],
      "toc_visible": true
    },
    "kernelspec": {
      "name": "python3",
      "display_name": "Python 3"
    },
    "language_info": {
      "name": "python"
    }
  },
  "cells": [
    {
      "cell_type": "markdown",
      "source": [
        "# RED NEURONAL - EQUIPO 5\n",
        "\n",
        "# Profesor: Margarita Orozco Gómez\n",
        "\n",
        "#Alumno: Jonathan Emmanuel Garacía Hernández\n",
        "#Matricula: A01423674\n",
        "\n",
        "#Alumno: Patricio Pérez\n",
        "#Matricula: A01642110\n",
        "\n",
        "Noviembre 2023\n",
        "\n",
        "Otra bibliografía consultada:\n",
        "\n",
        "Scikit-learn: Machine Learning in Python, Pedregosa et al., JMLR 12, pp. 2825-2830, 2011."
      ],
      "metadata": {
        "id": "uFI97aHcAumm"
      }
    },
    {
      "cell_type": "markdown",
      "source": [
        "## Libraries"
      ],
      "metadata": {
        "id": "sedW0ZwiB3U_"
      }
    },
    {
      "cell_type": "code",
      "execution_count": 345,
      "metadata": {
        "id": "oXJ-t9WpAWk9"
      },
      "outputs": [],
      "source": [
        "import pandas as pd\n",
        "import numpy as np\n",
        "from google.colab import drive"
      ]
    },
    {
      "cell_type": "markdown",
      "source": [
        "## Database"
      ],
      "metadata": {
        "id": "VWj7R2RJB49b"
      }
    },
    {
      "cell_type": "code",
      "source": [
        "drive.mount('/content/drive')"
      ],
      "metadata": {
        "colab": {
          "base_uri": "https://localhost:8080/"
        },
        "id": "s39pe2spB8KL",
        "outputId": "32058290-7d6f-4628-9d81-5e0b9f9e5480"
      },
      "execution_count": 346,
      "outputs": [
        {
          "output_type": "stream",
          "name": "stdout",
          "text": [
            "Drive already mounted at /content/drive; to attempt to forcibly remount, call drive.mount(\"/content/drive\", force_remount=True).\n"
          ]
        }
      ]
    },
    {
      "cell_type": "code",
      "source": [
        "fig_path = \"/content/drive/My Drive/Mineria Datos/Datos Bank EQUIPO 5.xlsx\""
      ],
      "metadata": {
        "id": "ySYzfXnOB95u"
      },
      "execution_count": 347,
      "outputs": []
    },
    {
      "cell_type": "code",
      "source": [
        "db = pd.read_excel(fig_path, sheet_name=\"bank\")"
      ],
      "metadata": {
        "id": "098w9JCeCVFd"
      },
      "execution_count": 348,
      "outputs": []
    },
    {
      "cell_type": "code",
      "source": [
        "db"
      ],
      "metadata": {
        "colab": {
          "base_uri": "https://localhost:8080/",
          "height": 461
        },
        "id": "lFKQXf5KGtd7",
        "outputId": "b0e36b59-6acb-4a99-db38-4c2effbacee9"
      },
      "execution_count": 349,
      "outputs": [
        {
          "output_type": "execute_result",
          "data": {
            "text/plain": [
              "      age            job   marital  education default  balance housing loan  \\\n",
              "0      32     management    single   tertiary      no     2536     yes   no   \n",
              "1      49     technician   married   tertiary      no     1235      no   no   \n",
              "2      42         admin.  divorced  secondary      no     1811     yes   no   \n",
              "3      78        retired  divorced    primary      no      229      no   no   \n",
              "4      32    blue-collar   married  secondary      no     2089     yes   no   \n",
              "...   ...            ...       ...        ...     ...      ...     ...  ...   \n",
              "3928   33       services   married  secondary      no     -333     yes   no   \n",
              "3929   57  self-employed   married   tertiary     yes    -3313     yes  yes   \n",
              "3930   57     technician   married  secondary      no      295      no   no   \n",
              "3931   28    blue-collar   married  secondary      no     1137      no   no   \n",
              "3932   44   entrepreneur    single   tertiary      no     1136     yes  yes   \n",
              "\n",
              "        contact  day month  duration  campaign  pdays  previous poutcome    y  \n",
              "0      cellular   26   aug       958         6     -1         0  unknown  yes  \n",
              "1      cellular   13   aug       354         3     -1         0  unknown  yes  \n",
              "2       unknown   14   may       150         1     -1         0  unknown   no  \n",
              "3     telephone   22   oct        97         1     -1         0  unknown  yes  \n",
              "4      cellular   14   nov       132         1     -1         0  unknown  yes  \n",
              "...         ...  ...   ...       ...       ...    ...       ...      ...  ...  \n",
              "3928   cellular   30   jul       329         5     -1         0  unknown   no  \n",
              "3929    unknown    9   may       153         1     -1         0  unknown   no  \n",
              "3930   cellular   19   aug       151        11     -1         0  unknown   no  \n",
              "3931   cellular    6   feb       129         4    211         3    other   no  \n",
              "3932   cellular    3   apr       345         2    249         7    other   no  \n",
              "\n",
              "[3933 rows x 17 columns]"
            ],
            "text/html": [
              "\n",
              "  <div id=\"df-9450118f-4b1f-4705-86b7-8444bf5a015a\" class=\"colab-df-container\">\n",
              "    <div>\n",
              "<style scoped>\n",
              "    .dataframe tbody tr th:only-of-type {\n",
              "        vertical-align: middle;\n",
              "    }\n",
              "\n",
              "    .dataframe tbody tr th {\n",
              "        vertical-align: top;\n",
              "    }\n",
              "\n",
              "    .dataframe thead th {\n",
              "        text-align: right;\n",
              "    }\n",
              "</style>\n",
              "<table border=\"1\" class=\"dataframe\">\n",
              "  <thead>\n",
              "    <tr style=\"text-align: right;\">\n",
              "      <th></th>\n",
              "      <th>age</th>\n",
              "      <th>job</th>\n",
              "      <th>marital</th>\n",
              "      <th>education</th>\n",
              "      <th>default</th>\n",
              "      <th>balance</th>\n",
              "      <th>housing</th>\n",
              "      <th>loan</th>\n",
              "      <th>contact</th>\n",
              "      <th>day</th>\n",
              "      <th>month</th>\n",
              "      <th>duration</th>\n",
              "      <th>campaign</th>\n",
              "      <th>pdays</th>\n",
              "      <th>previous</th>\n",
              "      <th>poutcome</th>\n",
              "      <th>y</th>\n",
              "    </tr>\n",
              "  </thead>\n",
              "  <tbody>\n",
              "    <tr>\n",
              "      <th>0</th>\n",
              "      <td>32</td>\n",
              "      <td>management</td>\n",
              "      <td>single</td>\n",
              "      <td>tertiary</td>\n",
              "      <td>no</td>\n",
              "      <td>2536</td>\n",
              "      <td>yes</td>\n",
              "      <td>no</td>\n",
              "      <td>cellular</td>\n",
              "      <td>26</td>\n",
              "      <td>aug</td>\n",
              "      <td>958</td>\n",
              "      <td>6</td>\n",
              "      <td>-1</td>\n",
              "      <td>0</td>\n",
              "      <td>unknown</td>\n",
              "      <td>yes</td>\n",
              "    </tr>\n",
              "    <tr>\n",
              "      <th>1</th>\n",
              "      <td>49</td>\n",
              "      <td>technician</td>\n",
              "      <td>married</td>\n",
              "      <td>tertiary</td>\n",
              "      <td>no</td>\n",
              "      <td>1235</td>\n",
              "      <td>no</td>\n",
              "      <td>no</td>\n",
              "      <td>cellular</td>\n",
              "      <td>13</td>\n",
              "      <td>aug</td>\n",
              "      <td>354</td>\n",
              "      <td>3</td>\n",
              "      <td>-1</td>\n",
              "      <td>0</td>\n",
              "      <td>unknown</td>\n",
              "      <td>yes</td>\n",
              "    </tr>\n",
              "    <tr>\n",
              "      <th>2</th>\n",
              "      <td>42</td>\n",
              "      <td>admin.</td>\n",
              "      <td>divorced</td>\n",
              "      <td>secondary</td>\n",
              "      <td>no</td>\n",
              "      <td>1811</td>\n",
              "      <td>yes</td>\n",
              "      <td>no</td>\n",
              "      <td>unknown</td>\n",
              "      <td>14</td>\n",
              "      <td>may</td>\n",
              "      <td>150</td>\n",
              "      <td>1</td>\n",
              "      <td>-1</td>\n",
              "      <td>0</td>\n",
              "      <td>unknown</td>\n",
              "      <td>no</td>\n",
              "    </tr>\n",
              "    <tr>\n",
              "      <th>3</th>\n",
              "      <td>78</td>\n",
              "      <td>retired</td>\n",
              "      <td>divorced</td>\n",
              "      <td>primary</td>\n",
              "      <td>no</td>\n",
              "      <td>229</td>\n",
              "      <td>no</td>\n",
              "      <td>no</td>\n",
              "      <td>telephone</td>\n",
              "      <td>22</td>\n",
              "      <td>oct</td>\n",
              "      <td>97</td>\n",
              "      <td>1</td>\n",
              "      <td>-1</td>\n",
              "      <td>0</td>\n",
              "      <td>unknown</td>\n",
              "      <td>yes</td>\n",
              "    </tr>\n",
              "    <tr>\n",
              "      <th>4</th>\n",
              "      <td>32</td>\n",
              "      <td>blue-collar</td>\n",
              "      <td>married</td>\n",
              "      <td>secondary</td>\n",
              "      <td>no</td>\n",
              "      <td>2089</td>\n",
              "      <td>yes</td>\n",
              "      <td>no</td>\n",
              "      <td>cellular</td>\n",
              "      <td>14</td>\n",
              "      <td>nov</td>\n",
              "      <td>132</td>\n",
              "      <td>1</td>\n",
              "      <td>-1</td>\n",
              "      <td>0</td>\n",
              "      <td>unknown</td>\n",
              "      <td>yes</td>\n",
              "    </tr>\n",
              "    <tr>\n",
              "      <th>...</th>\n",
              "      <td>...</td>\n",
              "      <td>...</td>\n",
              "      <td>...</td>\n",
              "      <td>...</td>\n",
              "      <td>...</td>\n",
              "      <td>...</td>\n",
              "      <td>...</td>\n",
              "      <td>...</td>\n",
              "      <td>...</td>\n",
              "      <td>...</td>\n",
              "      <td>...</td>\n",
              "      <td>...</td>\n",
              "      <td>...</td>\n",
              "      <td>...</td>\n",
              "      <td>...</td>\n",
              "      <td>...</td>\n",
              "      <td>...</td>\n",
              "    </tr>\n",
              "    <tr>\n",
              "      <th>3928</th>\n",
              "      <td>33</td>\n",
              "      <td>services</td>\n",
              "      <td>married</td>\n",
              "      <td>secondary</td>\n",
              "      <td>no</td>\n",
              "      <td>-333</td>\n",
              "      <td>yes</td>\n",
              "      <td>no</td>\n",
              "      <td>cellular</td>\n",
              "      <td>30</td>\n",
              "      <td>jul</td>\n",
              "      <td>329</td>\n",
              "      <td>5</td>\n",
              "      <td>-1</td>\n",
              "      <td>0</td>\n",
              "      <td>unknown</td>\n",
              "      <td>no</td>\n",
              "    </tr>\n",
              "    <tr>\n",
              "      <th>3929</th>\n",
              "      <td>57</td>\n",
              "      <td>self-employed</td>\n",
              "      <td>married</td>\n",
              "      <td>tertiary</td>\n",
              "      <td>yes</td>\n",
              "      <td>-3313</td>\n",
              "      <td>yes</td>\n",
              "      <td>yes</td>\n",
              "      <td>unknown</td>\n",
              "      <td>9</td>\n",
              "      <td>may</td>\n",
              "      <td>153</td>\n",
              "      <td>1</td>\n",
              "      <td>-1</td>\n",
              "      <td>0</td>\n",
              "      <td>unknown</td>\n",
              "      <td>no</td>\n",
              "    </tr>\n",
              "    <tr>\n",
              "      <th>3930</th>\n",
              "      <td>57</td>\n",
              "      <td>technician</td>\n",
              "      <td>married</td>\n",
              "      <td>secondary</td>\n",
              "      <td>no</td>\n",
              "      <td>295</td>\n",
              "      <td>no</td>\n",
              "      <td>no</td>\n",
              "      <td>cellular</td>\n",
              "      <td>19</td>\n",
              "      <td>aug</td>\n",
              "      <td>151</td>\n",
              "      <td>11</td>\n",
              "      <td>-1</td>\n",
              "      <td>0</td>\n",
              "      <td>unknown</td>\n",
              "      <td>no</td>\n",
              "    </tr>\n",
              "    <tr>\n",
              "      <th>3931</th>\n",
              "      <td>28</td>\n",
              "      <td>blue-collar</td>\n",
              "      <td>married</td>\n",
              "      <td>secondary</td>\n",
              "      <td>no</td>\n",
              "      <td>1137</td>\n",
              "      <td>no</td>\n",
              "      <td>no</td>\n",
              "      <td>cellular</td>\n",
              "      <td>6</td>\n",
              "      <td>feb</td>\n",
              "      <td>129</td>\n",
              "      <td>4</td>\n",
              "      <td>211</td>\n",
              "      <td>3</td>\n",
              "      <td>other</td>\n",
              "      <td>no</td>\n",
              "    </tr>\n",
              "    <tr>\n",
              "      <th>3932</th>\n",
              "      <td>44</td>\n",
              "      <td>entrepreneur</td>\n",
              "      <td>single</td>\n",
              "      <td>tertiary</td>\n",
              "      <td>no</td>\n",
              "      <td>1136</td>\n",
              "      <td>yes</td>\n",
              "      <td>yes</td>\n",
              "      <td>cellular</td>\n",
              "      <td>3</td>\n",
              "      <td>apr</td>\n",
              "      <td>345</td>\n",
              "      <td>2</td>\n",
              "      <td>249</td>\n",
              "      <td>7</td>\n",
              "      <td>other</td>\n",
              "      <td>no</td>\n",
              "    </tr>\n",
              "  </tbody>\n",
              "</table>\n",
              "<p>3933 rows × 17 columns</p>\n",
              "</div>\n",
              "    <div class=\"colab-df-buttons\">\n",
              "\n",
              "  <div class=\"colab-df-container\">\n",
              "    <button class=\"colab-df-convert\" onclick=\"convertToInteractive('df-9450118f-4b1f-4705-86b7-8444bf5a015a')\"\n",
              "            title=\"Convert this dataframe to an interactive table.\"\n",
              "            style=\"display:none;\">\n",
              "\n",
              "  <svg xmlns=\"http://www.w3.org/2000/svg\" height=\"24px\" viewBox=\"0 -960 960 960\">\n",
              "    <path d=\"M120-120v-720h720v720H120Zm60-500h600v-160H180v160Zm220 220h160v-160H400v160Zm0 220h160v-160H400v160ZM180-400h160v-160H180v160Zm440 0h160v-160H620v160ZM180-180h160v-160H180v160Zm440 0h160v-160H620v160Z\"/>\n",
              "  </svg>\n",
              "    </button>\n",
              "\n",
              "  <style>\n",
              "    .colab-df-container {\n",
              "      display:flex;\n",
              "      gap: 12px;\n",
              "    }\n",
              "\n",
              "    .colab-df-convert {\n",
              "      background-color: #E8F0FE;\n",
              "      border: none;\n",
              "      border-radius: 50%;\n",
              "      cursor: pointer;\n",
              "      display: none;\n",
              "      fill: #1967D2;\n",
              "      height: 32px;\n",
              "      padding: 0 0 0 0;\n",
              "      width: 32px;\n",
              "    }\n",
              "\n",
              "    .colab-df-convert:hover {\n",
              "      background-color: #E2EBFA;\n",
              "      box-shadow: 0px 1px 2px rgba(60, 64, 67, 0.3), 0px 1px 3px 1px rgba(60, 64, 67, 0.15);\n",
              "      fill: #174EA6;\n",
              "    }\n",
              "\n",
              "    .colab-df-buttons div {\n",
              "      margin-bottom: 4px;\n",
              "    }\n",
              "\n",
              "    [theme=dark] .colab-df-convert {\n",
              "      background-color: #3B4455;\n",
              "      fill: #D2E3FC;\n",
              "    }\n",
              "\n",
              "    [theme=dark] .colab-df-convert:hover {\n",
              "      background-color: #434B5C;\n",
              "      box-shadow: 0px 1px 3px 1px rgba(0, 0, 0, 0.15);\n",
              "      filter: drop-shadow(0px 1px 2px rgba(0, 0, 0, 0.3));\n",
              "      fill: #FFFFFF;\n",
              "    }\n",
              "  </style>\n",
              "\n",
              "    <script>\n",
              "      const buttonEl =\n",
              "        document.querySelector('#df-9450118f-4b1f-4705-86b7-8444bf5a015a button.colab-df-convert');\n",
              "      buttonEl.style.display =\n",
              "        google.colab.kernel.accessAllowed ? 'block' : 'none';\n",
              "\n",
              "      async function convertToInteractive(key) {\n",
              "        const element = document.querySelector('#df-9450118f-4b1f-4705-86b7-8444bf5a015a');\n",
              "        const dataTable =\n",
              "          await google.colab.kernel.invokeFunction('convertToInteractive',\n",
              "                                                    [key], {});\n",
              "        if (!dataTable) return;\n",
              "\n",
              "        const docLinkHtml = 'Like what you see? Visit the ' +\n",
              "          '<a target=\"_blank\" href=https://colab.research.google.com/notebooks/data_table.ipynb>data table notebook</a>'\n",
              "          + ' to learn more about interactive tables.';\n",
              "        element.innerHTML = '';\n",
              "        dataTable['output_type'] = 'display_data';\n",
              "        await google.colab.output.renderOutput(dataTable, element);\n",
              "        const docLink = document.createElement('div');\n",
              "        docLink.innerHTML = docLinkHtml;\n",
              "        element.appendChild(docLink);\n",
              "      }\n",
              "    </script>\n",
              "  </div>\n",
              "\n",
              "\n",
              "<div id=\"df-4d989eca-82d8-403d-a08e-c873107681be\">\n",
              "  <button class=\"colab-df-quickchart\" onclick=\"quickchart('df-4d989eca-82d8-403d-a08e-c873107681be')\"\n",
              "            title=\"Suggest charts\"\n",
              "            style=\"display:none;\">\n",
              "\n",
              "<svg xmlns=\"http://www.w3.org/2000/svg\" height=\"24px\"viewBox=\"0 0 24 24\"\n",
              "     width=\"24px\">\n",
              "    <g>\n",
              "        <path d=\"M19 3H5c-1.1 0-2 .9-2 2v14c0 1.1.9 2 2 2h14c1.1 0 2-.9 2-2V5c0-1.1-.9-2-2-2zM9 17H7v-7h2v7zm4 0h-2V7h2v10zm4 0h-2v-4h2v4z\"/>\n",
              "    </g>\n",
              "</svg>\n",
              "  </button>\n",
              "\n",
              "<style>\n",
              "  .colab-df-quickchart {\n",
              "      --bg-color: #E8F0FE;\n",
              "      --fill-color: #1967D2;\n",
              "      --hover-bg-color: #E2EBFA;\n",
              "      --hover-fill-color: #174EA6;\n",
              "      --disabled-fill-color: #AAA;\n",
              "      --disabled-bg-color: #DDD;\n",
              "  }\n",
              "\n",
              "  [theme=dark] .colab-df-quickchart {\n",
              "      --bg-color: #3B4455;\n",
              "      --fill-color: #D2E3FC;\n",
              "      --hover-bg-color: #434B5C;\n",
              "      --hover-fill-color: #FFFFFF;\n",
              "      --disabled-bg-color: #3B4455;\n",
              "      --disabled-fill-color: #666;\n",
              "  }\n",
              "\n",
              "  .colab-df-quickchart {\n",
              "    background-color: var(--bg-color);\n",
              "    border: none;\n",
              "    border-radius: 50%;\n",
              "    cursor: pointer;\n",
              "    display: none;\n",
              "    fill: var(--fill-color);\n",
              "    height: 32px;\n",
              "    padding: 0;\n",
              "    width: 32px;\n",
              "  }\n",
              "\n",
              "  .colab-df-quickchart:hover {\n",
              "    background-color: var(--hover-bg-color);\n",
              "    box-shadow: 0 1px 2px rgba(60, 64, 67, 0.3), 0 1px 3px 1px rgba(60, 64, 67, 0.15);\n",
              "    fill: var(--button-hover-fill-color);\n",
              "  }\n",
              "\n",
              "  .colab-df-quickchart-complete:disabled,\n",
              "  .colab-df-quickchart-complete:disabled:hover {\n",
              "    background-color: var(--disabled-bg-color);\n",
              "    fill: var(--disabled-fill-color);\n",
              "    box-shadow: none;\n",
              "  }\n",
              "\n",
              "  .colab-df-spinner {\n",
              "    border: 2px solid var(--fill-color);\n",
              "    border-color: transparent;\n",
              "    border-bottom-color: var(--fill-color);\n",
              "    animation:\n",
              "      spin 1s steps(1) infinite;\n",
              "  }\n",
              "\n",
              "  @keyframes spin {\n",
              "    0% {\n",
              "      border-color: transparent;\n",
              "      border-bottom-color: var(--fill-color);\n",
              "      border-left-color: var(--fill-color);\n",
              "    }\n",
              "    20% {\n",
              "      border-color: transparent;\n",
              "      border-left-color: var(--fill-color);\n",
              "      border-top-color: var(--fill-color);\n",
              "    }\n",
              "    30% {\n",
              "      border-color: transparent;\n",
              "      border-left-color: var(--fill-color);\n",
              "      border-top-color: var(--fill-color);\n",
              "      border-right-color: var(--fill-color);\n",
              "    }\n",
              "    40% {\n",
              "      border-color: transparent;\n",
              "      border-right-color: var(--fill-color);\n",
              "      border-top-color: var(--fill-color);\n",
              "    }\n",
              "    60% {\n",
              "      border-color: transparent;\n",
              "      border-right-color: var(--fill-color);\n",
              "    }\n",
              "    80% {\n",
              "      border-color: transparent;\n",
              "      border-right-color: var(--fill-color);\n",
              "      border-bottom-color: var(--fill-color);\n",
              "    }\n",
              "    90% {\n",
              "      border-color: transparent;\n",
              "      border-bottom-color: var(--fill-color);\n",
              "    }\n",
              "  }\n",
              "</style>\n",
              "\n",
              "  <script>\n",
              "    async function quickchart(key) {\n",
              "      const quickchartButtonEl =\n",
              "        document.querySelector('#' + key + ' button');\n",
              "      quickchartButtonEl.disabled = true;  // To prevent multiple clicks.\n",
              "      quickchartButtonEl.classList.add('colab-df-spinner');\n",
              "      try {\n",
              "        const charts = await google.colab.kernel.invokeFunction(\n",
              "            'suggestCharts', [key], {});\n",
              "      } catch (error) {\n",
              "        console.error('Error during call to suggestCharts:', error);\n",
              "      }\n",
              "      quickchartButtonEl.classList.remove('colab-df-spinner');\n",
              "      quickchartButtonEl.classList.add('colab-df-quickchart-complete');\n",
              "    }\n",
              "    (() => {\n",
              "      let quickchartButtonEl =\n",
              "        document.querySelector('#df-4d989eca-82d8-403d-a08e-c873107681be button');\n",
              "      quickchartButtonEl.style.display =\n",
              "        google.colab.kernel.accessAllowed ? 'block' : 'none';\n",
              "    })();\n",
              "  </script>\n",
              "</div>\n",
              "    </div>\n",
              "  </div>\n"
            ]
          },
          "metadata": {},
          "execution_count": 349
        }
      ]
    },
    {
      "cell_type": "markdown",
      "source": [
        "## Columns selection"
      ],
      "metadata": {
        "id": "VJxCXfXZCrd_"
      }
    },
    {
      "cell_type": "code",
      "source": [
        "from sklearn.preprocessing import OneHotEncoder, StandardScaler\n",
        "from sklearn.compose import ColumnTransformer\n",
        "from sklearn.pipeline import Pipeline"
      ],
      "metadata": {
        "id": "To1LAupUEcdV"
      },
      "execution_count": 350,
      "outputs": []
    },
    {
      "cell_type": "code",
      "source": [
        "cat_vars = ['job', 'marital', 'education', 'default', 'housing', 'loan', 'contact', 'month', 'poutcome']\n",
        "num_vars = ['age', 'balance', 'day', 'duration', 'campaign', 'pdays', 'previous']"
      ],
      "metadata": {
        "id": "jyGDzfdVCumE"
      },
      "execution_count": 351,
      "outputs": []
    },
    {
      "cell_type": "markdown",
      "source": [
        "División de las variables tanto en categóricas como en numéricas"
      ],
      "metadata": {
        "id": "z_yexpp3RGrk"
      }
    },
    {
      "cell_type": "code",
      "source": [
        "categorical_transformer = OneHotEncoder(handle_unknown='ignore')\n",
        "numerical_transformer = StandardScaler()"
      ],
      "metadata": {
        "id": "SDXjMRf-GvdD"
      },
      "execution_count": 352,
      "outputs": []
    },
    {
      "cell_type": "markdown",
      "source": [
        "OneHotEncoder con esto se puede convertir las variables categórica a formato númerico, se genra una columna binaria por cada categoria.\n",
        "handle_uknown = 'ingore'\n",
        "si hay una categoría desconocida se ignora\n",
        "\n",
        "\n",
        "StandardScaler esla las variables numericas para que la media sea 0 y desviación estándar de 1, todo esto es porque las variables tienen diferentes escalas y con esto se puede mejorar el modelo"
      ],
      "metadata": {
        "id": "q087e_koRKjq"
      }
    },
    {
      "cell_type": "code",
      "source": [
        "preprocessor = ColumnTransformer(\n",
        "    transformers=[\n",
        "        ('num', numerical_transformer, num_vars),\n",
        "        ('cat', categorical_transformer, cat_vars)\n",
        "    ]\n",
        ")"
      ],
      "metadata": {
        "id": "9oJyuVxWHXPq"
      },
      "execution_count": 353,
      "outputs": []
    },
    {
      "cell_type": "markdown",
      "source": [
        "ColumnTransformer de sickit-learn (sklearn) nos ayuda a hacer la transformación anteriormente ddescrita pero en una sola de codigo para todas las variables. Transformers define cuales serán el transformador a usar"
      ],
      "metadata": {
        "id": "ViyJGZ3YSrzU"
      }
    },
    {
      "cell_type": "code",
      "source": [
        "x = preprocessor.fit_transform(db)"
      ],
      "metadata": {
        "id": "GnPWWZM0HuDF"
      },
      "execution_count": 354,
      "outputs": []
    },
    {
      "cell_type": "markdown",
      "source": [
        "## Sample splitting"
      ],
      "metadata": {
        "id": "kFnuaUnqIC-j"
      }
    },
    {
      "cell_type": "code",
      "source": [
        "from sklearn.model_selection import train_test_split"
      ],
      "metadata": {
        "id": "_KjcyW1uIYlm"
      },
      "execution_count": 355,
      "outputs": []
    },
    {
      "cell_type": "code",
      "source": [
        "y = db['y'].map({'yes':1,'no':0})"
      ],
      "metadata": {
        "id": "zDOlf_mmINvq"
      },
      "execution_count": 356,
      "outputs": []
    },
    {
      "cell_type": "code",
      "source": [
        "x_train, x_test, y_train, y_test = train_test_split(x, y, test_size=0.2, random_state=50)"
      ],
      "metadata": {
        "id": "OdU_OHKoIa_5"
      },
      "execution_count": 357,
      "outputs": []
    },
    {
      "cell_type": "markdown",
      "source": [
        "## Model_1 LeakyReLU"
      ],
      "metadata": {
        "id": "JrJZBc56CAyF"
      }
    },
    {
      "cell_type": "code",
      "source": [
        "from tensorflow.keras.models import Sequential\n",
        "from tensorflow.keras.layers import Dense, LeakyReLU"
      ],
      "metadata": {
        "id": "LiEfPQVUCAyG"
      },
      "execution_count": 358,
      "outputs": []
    },
    {
      "cell_type": "code",
      "source": [
        "model_LReLu = Sequential()\n",
        "model_LReLu.add(Dense(20, input_shape=(x_train.shape[1],)))\n",
        "model_LReLu.add(LeakyReLU(alpha=0.01))\n",
        "model_LReLu.add(Dense(1,activation='sigmoid'))"
      ],
      "metadata": {
        "id": "wrP3AL4iCAyI"
      },
      "execution_count": 359,
      "outputs": []
    },
    {
      "cell_type": "markdown",
      "source": [
        "Descripcion del modelo.\n",
        "\n"
      ],
      "metadata": {
        "id": "eNswgc4vCAyI"
      }
    },
    {
      "cell_type": "markdown",
      "source": [
        "Sequential es un modelo lineal\n",
        "\n",
        "Dense son las capas de red neuronal regular densamente conectada. Las neuronas de esta capa se conectan a cada neurona de la capa anterior. En este caso el modelo utilizó 10 neuronas y es por medio de ReLU (Rectified Linear Unit). ReLU transforma valores negativos a cero. El tensor de entrada es la variable x_train\n",
        "\n",
        "Añade una segunda capa dense que es la salida modelo (como y es una variable dicotomica pues solo se oucpa una capa) en ese es el caso de sigmoid. Sigmoid es un clasificador que se defina por la probabilidad del valor"
      ],
      "metadata": {
        "id": "hGOh6rnBCAyJ"
      }
    },
    {
      "cell_type": "code",
      "source": [
        "model_LReLu.compile(optimizer='adam', loss='binary_crossentropy', metrics=['accuracy'])"
      ],
      "metadata": {
        "id": "5Jk3slkbCAyK"
      },
      "execution_count": 360,
      "outputs": []
    },
    {
      "cell_type": "markdown",
      "source": [
        "en esta linea se compila el modlo, se configura un proceso de aprendizaje\n",
        "\n",
        "optimizer = 'adam'se usa en lugar"
      ],
      "metadata": {
        "id": "G7THZzesCAyK"
      }
    },
    {
      "cell_type": "markdown",
      "source": [
        "### Model trainning"
      ],
      "metadata": {
        "id": "vnVxOKB-CAyL"
      }
    },
    {
      "cell_type": "code",
      "source": [
        "model_LReLu.fit(x_train, y_train, epochs=10, batch_size=40)"
      ],
      "metadata": {
        "colab": {
          "base_uri": "https://localhost:8080/"
        },
        "outputId": "ad21d11c-4ea7-4d78-d04c-9672923e6176",
        "id": "ckJepZnACAyM"
      },
      "execution_count": 361,
      "outputs": [
        {
          "output_type": "stream",
          "name": "stdout",
          "text": [
            "Epoch 1/10\n",
            "79/79 [==============================] - 1s 2ms/step - loss: 0.4700 - accuracy: 0.7991\n",
            "Epoch 2/10\n",
            "79/79 [==============================] - 0s 2ms/step - loss: 0.2981 - accuracy: 0.8868\n",
            "Epoch 3/10\n",
            "79/79 [==============================] - 0s 2ms/step - loss: 0.2723 - accuracy: 0.8865\n",
            "Epoch 4/10\n",
            "79/79 [==============================] - 0s 2ms/step - loss: 0.2578 - accuracy: 0.8919\n",
            "Epoch 5/10\n",
            "79/79 [==============================] - 0s 2ms/step - loss: 0.2483 - accuracy: 0.8954\n",
            "Epoch 6/10\n",
            "79/79 [==============================] - 0s 2ms/step - loss: 0.2423 - accuracy: 0.8980\n",
            "Epoch 7/10\n",
            "79/79 [==============================] - 0s 2ms/step - loss: 0.2377 - accuracy: 0.9021\n",
            "Epoch 8/10\n",
            "79/79 [==============================] - 0s 2ms/step - loss: 0.2344 - accuracy: 0.9053\n",
            "Epoch 9/10\n",
            "79/79 [==============================] - 0s 2ms/step - loss: 0.2315 - accuracy: 0.9062\n",
            "Epoch 10/10\n",
            "79/79 [==============================] - 0s 2ms/step - loss: 0.2292 - accuracy: 0.9072\n"
          ]
        },
        {
          "output_type": "execute_result",
          "data": {
            "text/plain": [
              "<keras.src.callbacks.History at 0x7a843808a5f0>"
            ]
          },
          "metadata": {},
          "execution_count": 361
        }
      ]
    },
    {
      "cell_type": "markdown",
      "source": [
        "### Model evaluation"
      ],
      "metadata": {
        "id": "C2ZTF4euCAyN"
      }
    },
    {
      "cell_type": "code",
      "source": [
        "loss, accuracy = model_LReLu.evaluate(x_test, y_test)\n",
        "print(f'loss: {loss}, Accuracy: {accuracy}')"
      ],
      "metadata": {
        "colab": {
          "base_uri": "https://localhost:8080/"
        },
        "outputId": "788a6c39-4af0-4c87-d4d8-0167389dd923",
        "id": "P-CGx114CAyN"
      },
      "execution_count": 362,
      "outputs": [
        {
          "output_type": "stream",
          "name": "stdout",
          "text": [
            "25/25 [==============================] - 0s 2ms/step - loss: 0.2349 - accuracy: 0.9034\n",
            "loss: 0.2348807454109192, Accuracy: 0.9034307599067688\n"
          ]
        }
      ]
    },
    {
      "cell_type": "markdown",
      "source": [
        "### Prediction"
      ],
      "metadata": {
        "id": "f1gXddkyCAyO"
      }
    },
    {
      "cell_type": "code",
      "source": [
        "y_pred = model_LReLu.predict(x_test)\n",
        "y_pred = (y_pred > 0.5).astype(int)"
      ],
      "metadata": {
        "colab": {
          "base_uri": "https://localhost:8080/"
        },
        "outputId": "bfa82c42-14b5-467f-eaa8-4300e7ba1e99",
        "id": "S0NRFc4LCAyP"
      },
      "execution_count": 363,
      "outputs": [
        {
          "output_type": "stream",
          "name": "stdout",
          "text": [
            "25/25 [==============================] - 0s 1ms/step\n"
          ]
        }
      ]
    },
    {
      "cell_type": "code",
      "source": [
        "from sklearn.metrics import confusion_matrix, ConfusionMatrixDisplay\n",
        "import matplotlib.pyplot as plt"
      ],
      "metadata": {
        "id": "wosRWbI2CAyP"
      },
      "execution_count": 364,
      "outputs": []
    },
    {
      "cell_type": "code",
      "source": [
        "cm = confusion_matrix(y_test, y_pred)\n",
        "cm"
      ],
      "metadata": {
        "colab": {
          "base_uri": "https://localhost:8080/"
        },
        "outputId": "753230b8-9220-4408-a8ae-321a72d48bae",
        "id": "jhTsxNetCAyQ"
      },
      "execution_count": 365,
      "outputs": [
        {
          "output_type": "execute_result",
          "data": {
            "text/plain": [
              "array([[679,  17],\n",
              "       [ 59,  32]])"
            ]
          },
          "metadata": {},
          "execution_count": 365
        }
      ]
    },
    {
      "cell_type": "code",
      "source": [
        "disp = ConfusionMatrixDisplay(confusion_matrix=cm,\n",
        "                                 display_labels=np.unique(db['y']))\n",
        "disp.plot()\n",
        "plt.show()"
      ],
      "metadata": {
        "colab": {
          "base_uri": "https://localhost:8080/",
          "height": 449
        },
        "outputId": "469c7f6b-cfec-4533-8437-0f0330ab3f0c",
        "id": "GCHLex3pCAyR"
      },
      "execution_count": 366,
      "outputs": [
        {
          "output_type": "display_data",
          "data": {
            "text/plain": [
              "<Figure size 640x480 with 2 Axes>"
            ],
            "image/png": "[encoded data removed]"
          },
          "metadata": {}
        }
      ]
    },
    {
      "cell_type": "markdown",
      "source": [
        "## Model_2 ReLU"
      ],
      "metadata": {
        "id": "fZDqB92cJKiT"
      }
    },
    {
      "cell_type": "code",
      "source": [
        "from tensorflow.keras.models import Sequential\n",
        "from tensorflow.keras.layers import Dense, LeakyReLU"
      ],
      "metadata": {
        "id": "U8Jq0HNjIZrM"
      },
      "execution_count": 384,
      "outputs": []
    },
    {
      "cell_type": "code",
      "source": [
        "model = Sequential() #contenedor de apar que se agregaran (lineales como anteriormente se explicó)\n",
        "model.add(Dense(80, activation='relu', input_shape=(x_train.shape[1],)))\n",
        "model.add(Dense(1,activation='sigmoid'))"
      ],
      "metadata": {
        "id": "LEoRe3sLJWtK"
      },
      "execution_count": 385,
      "outputs": []
    },
    {
      "cell_type": "markdown",
      "source": [
        "Descripcion del modelo.\n",
        "\n"
      ],
      "metadata": {
        "id": "IN4TvsZLUiWw"
      }
    },
    {
      "cell_type": "markdown",
      "source": [
        "Sequential es un modelo lineal\n",
        "\n",
        "Dense son las capas de red neuronal regular densamente conectada. Las neuronas de esta capa se conectan a cada neurona de la capa anterior. En este caso el modelo utilizó 10 neuronas y es por medio de ReLU (Rectified Linear Unit). ReLU transforma valores negativos a cero. El tensor de entrada es la variable x_train\n",
        "\n",
        "Añade una segunda capa dense que es la salida modelo (como y es una variable dicotomica pues solo se oucpa una capa) en ese es el caso de sigmoid. Sigmoid es un clasificador que se defina por la probabilidad del valor"
      ],
      "metadata": {
        "id": "7z6cLKsYUWqf"
      }
    },
    {
      "cell_type": "code",
      "source": [
        "model.compile(optimizer='adam', loss='binary_crossentropy', metrics=['accuracy'])"
      ],
      "metadata": {
        "id": "rm9UA17WKMl-"
      },
      "execution_count": 386,
      "outputs": []
    },
    {
      "cell_type": "markdown",
      "source": [
        "en esta linea se compila el modlo, se configura un proceso de aprendizaje\n",
        "\n",
        "optimizer = 'adam'se usa en lugar"
      ],
      "metadata": {
        "id": "BmN6x-_jfg5W"
      }
    },
    {
      "cell_type": "markdown",
      "source": [],
      "metadata": {
        "id": "dSSicI5LDSCP"
      }
    },
    {
      "cell_type": "markdown",
      "source": [
        "### Model trainning"
      ],
      "metadata": {
        "id": "vv0MWuo9INN2"
      }
    },
    {
      "cell_type": "code",
      "source": [
        "model.fit(x_train, y_train, epochs=10, batch_size=40)"
      ],
      "metadata": {
        "colab": {
          "base_uri": "https://localhost:8080/"
        },
        "id": "SjYO2NpJK_m8",
        "outputId": "bd7b4618-7962-4244-eccb-3ecc6a58f41f"
      },
      "execution_count": 387,
      "outputs": [
        {
          "output_type": "stream",
          "name": "stdout",
          "text": [
            "Epoch 1/10\n",
            "79/79 [==============================] - 1s 2ms/step - loss: 0.3584 - accuracy: 0.8821\n",
            "Epoch 2/10\n",
            "79/79 [==============================] - 0s 2ms/step - loss: 0.2671 - accuracy: 0.8856\n",
            "Epoch 3/10\n",
            "79/79 [==============================] - 0s 2ms/step - loss: 0.2449 - accuracy: 0.8989\n",
            "Epoch 4/10\n",
            "79/79 [==============================] - 0s 2ms/step - loss: 0.2359 - accuracy: 0.9024\n",
            "Epoch 5/10\n",
            "79/79 [==============================] - 0s 2ms/step - loss: 0.2300 - accuracy: 0.9031\n",
            "Epoch 6/10\n",
            "79/79 [==============================] - 0s 2ms/step - loss: 0.2244 - accuracy: 0.9056\n",
            "Epoch 7/10\n",
            "79/79 [==============================] - 0s 2ms/step - loss: 0.2199 - accuracy: 0.9075\n",
            "Epoch 8/10\n",
            "79/79 [==============================] - 0s 2ms/step - loss: 0.2157 - accuracy: 0.9107\n",
            "Epoch 9/10\n",
            "79/79 [==============================] - 0s 2ms/step - loss: 0.2132 - accuracy: 0.9113\n",
            "Epoch 10/10\n",
            "79/79 [==============================] - 0s 2ms/step - loss: 0.2103 - accuracy: 0.9126\n"
          ]
        },
        {
          "output_type": "execute_result",
          "data": {
            "text/plain": [
              "<keras.src.callbacks.History at 0x7a842e105690>"
            ]
          },
          "metadata": {},
          "execution_count": 387
        }
      ]
    },
    {
      "cell_type": "markdown",
      "source": [
        "### Model evaluation"
      ],
      "metadata": {
        "id": "H_4aPK2jLhEW"
      }
    },
    {
      "cell_type": "code",
      "source": [
        "loss, accuracy = model.evaluate(x_test, y_test)\n",
        "print(f'loss: {loss}, Accuracy: {accuracy}')"
      ],
      "metadata": {
        "colab": {
          "base_uri": "https://localhost:8080/"
        },
        "id": "AKMjz2zTLgoM",
        "outputId": "2bc0c3cf-228a-42c0-bada-51150e2a1045"
      },
      "execution_count": 388,
      "outputs": [
        {
          "output_type": "stream",
          "name": "stdout",
          "text": [
            "25/25 [==============================] - 0s 2ms/step - loss: 0.2276 - accuracy: 0.9034\n",
            "loss: 0.22760795056819916, Accuracy: 0.9034307599067688\n"
          ]
        }
      ]
    },
    {
      "cell_type": "markdown",
      "source": [
        "### Prediction"
      ],
      "metadata": {
        "id": "_vmQjjgpOu3o"
      }
    },
    {
      "cell_type": "code",
      "source": [
        "y_pred = model.predict(x_test)\n",
        "y_pred = (y_pred > 0.5).astype(int)"
      ],
      "metadata": {
        "colab": {
          "base_uri": "https://localhost:8080/"
        },
        "id": "GglcDV_nOuYD",
        "outputId": "93d8bc93-6eb6-42fc-b603-376100caf5d4"
      },
      "execution_count": 389,
      "outputs": [
        {
          "output_type": "stream",
          "name": "stdout",
          "text": [
            "25/25 [==============================] - 0s 1ms/step\n"
          ]
        }
      ]
    },
    {
      "cell_type": "code",
      "source": [
        "from sklearn.metrics import confusion_matrix, ConfusionMatrixDisplay\n",
        "import matplotlib.pyplot as plt"
      ],
      "metadata": {
        "id": "9QTmNc0aL_Z6"
      },
      "execution_count": 390,
      "outputs": []
    },
    {
      "cell_type": "code",
      "source": [
        "cm = confusion_matrix(y_test, y_pred)\n",
        "cm"
      ],
      "metadata": {
        "colab": {
          "base_uri": "https://localhost:8080/"
        },
        "id": "EFr_hhk0MAIf",
        "outputId": "673804ab-cddc-44a1-8b1d-0e4f2a4b41c8"
      },
      "execution_count": 391,
      "outputs": [
        {
          "output_type": "execute_result",
          "data": {
            "text/plain": [
              "array([[666,  30],\n",
              "       [ 46,  45]])"
            ]
          },
          "metadata": {},
          "execution_count": 391
        }
      ]
    },
    {
      "cell_type": "code",
      "source": [
        "disp = ConfusionMatrixDisplay(confusion_matrix=cm,\n",
        "                                 display_labels=np.unique(db['y']))\n",
        "disp.plot()\n",
        "plt.show()"
      ],
      "metadata": {
        "colab": {
          "base_uri": "https://localhost:8080/",
          "height": 449
        },
        "id": "LXgU8Y_nNMVx",
        "outputId": "40882e0e-b77e-4d98-e594-447e42b42477"
      },
      "execution_count": 392,
      "outputs": [
        {
          "output_type": "display_data",
          "data": {
            "text/plain": [
              "<Figure size 640x480 with 2 Axes>"
            ],
            "image/png": "[encoded data removed]"
          },
          "metadata": {}
        }
      ]
    },
    {
      "cell_type": "code",
      "source": [],
      "metadata": {
        "id": "uwrGEeKRKoZr"
      },
      "execution_count": 392,
      "outputs": []
    },
    {
      "cell_type": "markdown",
      "source": [
        "## Model_3 BatchNormalization"
      ],
      "metadata": {
        "id": "3RF-rjL4KopP"
      }
    },
    {
      "cell_type": "code",
      "source": [
        "from tensorflow.keras.models import Sequential\n",
        "from tensorflow.keras.layers import Dropout, BatchNormalization\n",
        "from sklearn.model_selection import StratifiedKFold"
      ],
      "metadata": {
        "id": "hdBGIZVnKopP"
      },
      "execution_count": 393,
      "outputs": []
    },
    {
      "cell_type": "code",
      "source": [
        "model_3 = Sequential()\n",
        "model_3.add(Dense(100, activation='tanh', input_shape=(x_train.shape[1],)))\n",
        "model_3.add(BatchNormalization())\n",
        "model_3.add(Dropout(0.40))\n",
        "model_3.add(Dense(50, activation='tanh'))\n",
        "model_3.add(Dense(1,activation='sigmoid'))\n",
        "model_3.compile(optimizer='adam', loss='binary_crossentropy', metrics=['accuracy'])"
      ],
      "metadata": {
        "id": "SWwzd6PmKopP"
      },
      "execution_count": 394,
      "outputs": []
    },
    {
      "cell_type": "markdown",
      "source": [
        "### Model trainning"
      ],
      "metadata": {
        "id": "cAiu4CuXKopQ"
      }
    },
    {
      "cell_type": "code",
      "source": [
        "model_3.fit(x_train, y_train, epochs=10, batch_size=500)"
      ],
      "metadata": {
        "colab": {
          "base_uri": "https://localhost:8080/"
        },
        "outputId": "e3d0c7b9-a427-44c1-a780-754d6fb7b6c2",
        "id": "w6xRv5PcKopQ"
      },
      "execution_count": 395,
      "outputs": [
        {
          "output_type": "stream",
          "name": "stdout",
          "text": [
            "Epoch 1/10\n",
            "7/7 [==============================] - 1s 7ms/step - loss: 0.7235 - accuracy: 0.5652\n",
            "Epoch 2/10\n",
            "7/7 [==============================] - 0s 6ms/step - loss: 0.6065 - accuracy: 0.6812\n",
            "Epoch 3/10\n",
            "7/7 [==============================] - 0s 6ms/step - loss: 0.5588 - accuracy: 0.7409\n",
            "Epoch 4/10\n",
            "7/7 [==============================] - 0s 6ms/step - loss: 0.5181 - accuracy: 0.7759\n",
            "Epoch 5/10\n",
            "7/7 [==============================] - 0s 6ms/step - loss: 0.4866 - accuracy: 0.7902\n",
            "Epoch 6/10\n",
            "7/7 [==============================] - 0s 6ms/step - loss: 0.4518 - accuracy: 0.8195\n",
            "Epoch 7/10\n",
            "7/7 [==============================] - 0s 6ms/step - loss: 0.4173 - accuracy: 0.8388\n",
            "Epoch 8/10\n",
            "7/7 [==============================] - 0s 7ms/step - loss: 0.3822 - accuracy: 0.8589\n",
            "Epoch 9/10\n",
            "7/7 [==============================] - 0s 10ms/step - loss: 0.3634 - accuracy: 0.8601\n",
            "Epoch 10/10\n",
            "7/7 [==============================] - 0s 6ms/step - loss: 0.3473 - accuracy: 0.8725\n"
          ]
        },
        {
          "output_type": "execute_result",
          "data": {
            "text/plain": [
              "<keras.src.callbacks.History at 0x7a842dee2d10>"
            ]
          },
          "metadata": {},
          "execution_count": 395
        }
      ]
    },
    {
      "cell_type": "markdown",
      "source": [
        "### Model evaluation"
      ],
      "metadata": {
        "id": "tRsmrwAnKopR"
      }
    },
    {
      "cell_type": "code",
      "source": [
        "loss, accuracy = model_3.evaluate(x_test, y_test)\n",
        "print(f'loss: {loss}, Accuracy: {accuracy}')"
      ],
      "metadata": {
        "colab": {
          "base_uri": "https://localhost:8080/"
        },
        "outputId": "3a967ae9-24d6-4afa-c39c-e6a6d0db06d9",
        "id": "wo79nrzoKopR"
      },
      "execution_count": 396,
      "outputs": [
        {
          "output_type": "stream",
          "name": "stdout",
          "text": [
            "25/25 [==============================] - 0s 2ms/step - loss: 0.2801 - accuracy: 0.8983\n",
            "loss: 0.280057817697525, Accuracy: 0.8983481526374817\n"
          ]
        }
      ]
    },
    {
      "cell_type": "markdown",
      "source": [
        "### Prediction"
      ],
      "metadata": {
        "id": "z9Dzqd4dKopR"
      }
    },
    {
      "cell_type": "code",
      "source": [
        "y_pred = model_3.predict(x_test)\n",
        "y_pred = (y_pred > 0.5).astype(int)"
      ],
      "metadata": {
        "colab": {
          "base_uri": "https://localhost:8080/"
        },
        "outputId": "32e48790-7bfe-4da9-edea-401e7f3a1fb2",
        "id": "92alqJ3rKopR"
      },
      "execution_count": 397,
      "outputs": [
        {
          "output_type": "stream",
          "name": "stdout",
          "text": [
            "25/25 [==============================] - 0s 2ms/step\n"
          ]
        }
      ]
    },
    {
      "cell_type": "code",
      "source": [
        "from sklearn.metrics import confusion_matrix, ConfusionMatrixDisplay\n",
        "import matplotlib.pyplot as plt"
      ],
      "metadata": {
        "id": "Y15lhz3OKopS"
      },
      "execution_count": 398,
      "outputs": []
    },
    {
      "cell_type": "code",
      "source": [
        "cm = confusion_matrix(y_test, y_pred)\n",
        "cm"
      ],
      "metadata": {
        "colab": {
          "base_uri": "https://localhost:8080/"
        },
        "outputId": "3e34e9fd-7733-4925-ff2d-cd70050a83e5",
        "id": "2m3mtni2KopS"
      },
      "execution_count": 399,
      "outputs": [
        {
          "output_type": "execute_result",
          "data": {
            "text/plain": [
              "array([[685,  11],\n",
              "       [ 69,  22]])"
            ]
          },
          "metadata": {},
          "execution_count": 399
        }
      ]
    },
    {
      "cell_type": "code",
      "source": [
        "disp = ConfusionMatrixDisplay(confusion_matrix=cm,\n",
        "                                 display_labels=np.unique(db['y']))\n",
        "disp.plot()\n",
        "plt.show()"
      ],
      "metadata": {
        "colab": {
          "base_uri": "https://localhost:8080/",
          "height": 449
        },
        "outputId": "7c5c2166-fcff-42ab-8a50-fec7767b1b0d",
        "id": "uNrWoqLWKopS"
      },
      "execution_count": 400,
      "outputs": [
        {
          "output_type": "display_data",
          "data": {
            "text/plain": [
              "<Figure size 640x480 with 2 Axes>"
            ],
            "image/png": "[encoded data removed]"
          },
          "metadata": {}
        }
      ]
    }
  ]
}